{
 "cells": [
  {
   "cell_type": "markdown",
   "metadata": {},
   "source": [
    "# Assignment Day 4"
   ]
  },
  {
   "cell_type": "markdown",
   "metadata": {},
   "source": [
    "__Question 1 :__\n",
    "Research on whether addition, subtraction, multiplication, division, floor division and modulo\n",
    "operations be performed on complex numbers. Based on your study, implement a Python\n",
    "program to demonstrate these operations."
   ]
  },
  {
   "cell_type": "code",
   "execution_count": 3,
   "metadata": {},
   "outputs": [
    {
     "name": "stdout",
     "output_type": "stream",
     "text": [
      "Addition of 2 Complex Numbers = (15+30j)\n",
      "Subtraction of 2 Complex Numbers = (5+10j)\n",
      "Multiplication of 2 Complex Numbers = (-150+200j)\n",
      "Division of 2 Complex Numbers = (2+0j)\n"
     ]
    }
   ],
   "source": [
    "complex1=5+10j #First Complex Number\n",
    "complex2=10+20j #Second Complex Number\n",
    "print(\"Addition of 2 Complex Numbers =\",complex1+complex2) #Addition of 2 Complex Numbers\n",
    "print(\"Subtraction of 2 Complex Numbers =\",complex2-complex1) #Subtraction of 2 Complex Numbers\n",
    "print(\"Multiplication of 2 Complex Numbers =\",complex1*complex2) #Multiplication of 2 Complex Numbers\n",
    "print(\"Division of 2 Complex Numbers =\",complex2/complex1) #Division of 2 Complex Numbers\n",
    "#print(complex2//complex1) #Floor Division of 2 Complex Numbers(According to my research it is not possible)\n",
    "#print(complex2%complex1) #Modulo Division of 2 Complex Numbers(According to my research it is not possible)"
   ]
  },
  {
   "cell_type": "markdown",
   "metadata": {},
   "source": [
    "__Question 2 :__\n",
    "Research on range() functions and its parameters. Create a markdown cell and write in your own\n",
    "words (no copy-paste from google please) what you understand about it. Implement a small\n",
    "program of your choice on the same."
   ]
  },
  {
   "cell_type": "markdown",
   "metadata": {},
   "source": [
    "# Range\n",
    "\n",
    "Range is a built in function in python. It starts from 0 and increments by 1(default). It is normally used in loops or when a user wants to perform a same tasks multiple number of times. It totally accepts 3 parameters in that 1 is mandatatory and other 2 are optional.\n",
    "\n",
    "Parameter Names:\n",
    "1)Start: Starting position if traversing in a list or loop. Default value is 0.(Optional Parameter)\n",
    "2)Stop: Position where the traversing should be stopped. Mandatory Parameter.\n",
    "3)Step: How much increment should happen after the first iteration. Default Value is 1.(Optional Parameter)."
   ]
  },
  {
   "cell_type": "code",
   "execution_count": 13,
   "metadata": {},
   "outputs": [
    {
     "name": "stdout",
     "output_type": "stream",
     "text": [
      "Range Function using 1 Parameter =\n",
      "0 1 2 3 4 \n",
      "\n",
      "Range Function using 2 Parameters =\n",
      "3 4 5 6 \n",
      "\n",
      "Range Function using 3 Parameters =\n",
      "2 4 6 8 \n",
      "\n"
     ]
    }
   ],
   "source": [
    "#Example with 1 Parameter:\n",
    "print(\"Range Function using 1 Parameter =\")\n",
    "for i in range(5):\n",
    "    print(i, end=\" \")\n",
    "print(\"\\n\")\n",
    "\n",
    "#Example with 2 Parameters:\n",
    "print(\"Range Function using 2 Parameters =\")\n",
    "for i1 in range(3,7):\n",
    "    print(i1,end=\" \")\n",
    "print(\"\\n\")\n",
    "    \n",
    "#Example with 3 Parameters:\n",
    "print(\"Range Function using 3 Parameters =\")\n",
    "for i2 in range(2,10,2):\n",
    "    print(i2,end=\" \")\n",
    "print(\"\\n\")\n",
    "\n",
    "    "
   ]
  },
  {
   "cell_type": "markdown",
   "metadata": {},
   "source": [
    "__Question 3:__\n",
    "Consider two numbers. Perform their subtraction and if the result of subtraction is greater than\n",
    "25, print their multiplication result else print their division result."
   ]
  },
  {
   "cell_type": "code",
   "execution_count": 16,
   "metadata": {},
   "outputs": [
    {
     "name": "stdout",
     "output_type": "stream",
     "text": [
      "As Subtraction of 2 numbers is greater than 25, Printing their Multiplication result : 1370974\n"
     ]
    }
   ],
   "source": [
    "s1=1234 #First Number\n",
    "s2=1111 #Second Number\n",
    "s3=s1-s2 #Performing Subtraction of 2 Numbers\n",
    "if s3>25:\n",
    "    print(\"As Subtraction of 2 numbers is greater than 25, Printing their Multiplication result :\",s1*s2)\n",
    "else:\n",
    "    print(\"As Subtraction of 2 numbers is less than 25, Printing their Division result :\",s1/s2)"
   ]
  },
  {
   "cell_type": "markdown",
   "metadata": {},
   "source": [
    "__Question 4:__\n",
    "Consider a list of 10 elements of integer values. If the number in the list is divisible by 2, print the\n",
    "result as \"square of that number minus 2\"."
   ]
  },
  {
   "cell_type": "code",
   "execution_count": 25,
   "metadata": {},
   "outputs": [
    {
     "name": "stdout",
     "output_type": "stream",
     "text": [
      "Square of 12 number minus 2 : 142\n",
      "Square of 14 number minus 2 : 194\n",
      "Square of 16 number minus 2 : 254\n",
      "Square of 18 number minus 2 : 322\n",
      "Square of 20 number minus 2 : 398\n"
     ]
    }
   ],
   "source": [
    "List1=[11,12,13,14,15,16,17,18,19,20]\n",
    "for ilist1 in range(len(List1)):\n",
    "    if List1[ilist1]%2 ==0:\n",
    "        print(\"Square of\",List1[ilist1],\"number minus 2 :\",(List1[ilist1]**2)-2)"
   ]
  },
  {
   "cell_type": "markdown",
   "metadata": {},
   "source": [
    "__Question 5:__\n",
    "Consider a list of 10 elements. Print all the elements in the list which are greater than 7 when that\n",
    "number is divided 2."
   ]
  },
  {
   "cell_type": "code",
   "execution_count": 24,
   "metadata": {},
   "outputs": [
    {
     "name": "stdout",
     "output_type": "stream",
     "text": [
      "Element 15 greater than 7 when divided by 2\n",
      "Element 16 greater than 7 when divided by 2\n",
      "Element 17 greater than 7 when divided by 2\n",
      "Element 18 greater than 7 when divided by 2\n",
      "Element 19 greater than 7 when divided by 2\n",
      "Element 20 greater than 7 when divided by 2\n"
     ]
    }
   ],
   "source": [
    "List2=[11,12,13,14,15,16,17,18,19,20]\n",
    "for ilist2 in range(len(List2)):\n",
    "    if List2[ilist2]/2 > 7:\n",
    "        print(\"Element\",(List2[ilist2]),\"greater than 7 when divided by 2\")"
   ]
  }
 ],
 "metadata": {
  "kernelspec": {
   "display_name": "Python 3",
   "language": "python",
   "name": "python3"
  },
  "language_info": {
   "codemirror_mode": {
    "name": "ipython",
    "version": 3
   },
   "file_extension": ".py",
   "mimetype": "text/x-python",
   "name": "python",
   "nbconvert_exporter": "python",
   "pygments_lexer": "ipython3",
   "version": "3.7.6"
  }
 },
 "nbformat": 4,
 "nbformat_minor": 4
}
