{
 "cells": [
  {
   "cell_type": "markdown",
   "metadata": {},
   "source": [
    "# Assignment Day 5\n"
   ]
  },
  {
   "cell_type": "markdown",
   "metadata": {},
   "source": [
    "__Question 1 :__\n",
    "Write a Python program to find the first 20 non-even prime natural numbers."
   ]
  },
  {
   "cell_type": "code",
   "execution_count": 5,
   "metadata": {},
   "outputs": [
    {
     "name": "stdout",
     "output_type": "stream",
     "text": [
      "Prime Number  1  is : 3\n",
      "Prime Number  2  is : 5\n",
      "Prime Number  3  is : 7\n",
      "Prime Number  4  is : 11\n",
      "Prime Number  5  is : 13\n",
      "Prime Number  6  is : 17\n",
      "Prime Number  7  is : 19\n",
      "Prime Number  8  is : 23\n",
      "Prime Number  9  is : 29\n",
      "Prime Number  10  is : 31\n",
      "Prime Number  11  is : 37\n",
      "Prime Number  12  is : 41\n",
      "Prime Number  13  is : 43\n",
      "Prime Number  14  is : 47\n",
      "Prime Number  15  is : 53\n",
      "Prime Number  16  is : 59\n",
      "Prime Number  17  is : 61\n",
      "Prime Number  18  is : 67\n",
      "Prime Number  19  is : 71\n",
      "Prime Number  20  is : 73\n"
     ]
    }
   ],
   "source": [
    "#Program to print first 20 Non-Even Prime Natural numbers\n",
    "Starting_Num=1 #Starting Number is given 1 as Natural numbers start from 1\n",
    "Ending_Num=1000\n",
    "counter=1\n",
    "               \n",
    "for i in range(Starting_Num, Ending_Num + 1, 1):\n",
    "    if (i == 1 or i == 0):\n",
    "        continue; \n",
    "    flag = 1;\n",
    "    for j in range(2, ((i // 2) + 1), 1):\n",
    "        if (i % j == 0):\n",
    "            flag = 0;\n",
    "            break; \n",
    "    if (flag == 1 and i%2 !=0 and counter<21):\n",
    "        print(\"Prime Number \",counter,\" is :\",i)\n",
    "        counter=counter+1\n",
    "            "
   ]
  },
  {
   "cell_type": "markdown",
   "metadata": {},
   "source": [
    "__Question 2 :__\n",
    "Write a Python program to implement 15 functions of string.\n"
   ]
  },
  {
   "cell_type": "code",
   "execution_count": 14,
   "metadata": {},
   "outputs": [
    {
     "name": "stdout",
     "output_type": "stream",
     "text": [
      "String Function 1:  Saikalyan rentachintala\n",
      "String Function 2:  saikalyan rentachintala\n",
      "String Function 3:  False\n",
      "String Function 4:  6\n",
      "String Function 5:  b'Saikalyan Rentachintala'\n",
      "String Function 6:  saikalyan rentachintala\n",
      "String Function 7:  10\n",
      "String Function 8:  Szikzlyzn Rentzchintzlz\n",
      "String Function 9:  ['Saikalyan', 'Rentachintala']\n",
      "String Function 10:  ['Saikalyan Rentachintala']\n",
      "String Function 11:  False\n",
      "String Function 12:  Saikalyan Rentachintala\n",
      "String Function 13:  sAIKALYAN rENTACHINTALA\n",
      "String Function 14:  False\n",
      "String Function 15:  SAIKALYAN RENTACHINTALA\n"
     ]
    }
   ],
   "source": [
    "S1=\"Saikalyan Rentachintala\"\n",
    "print(\"String Function 1: \",S1.capitalize())\n",
    "print(\"String Function 2: \",S1.casefold())\n",
    "print(\"String Function 3: \",S1.isalpha())\n",
    "print(\"String Function 4: \",S1.count(\"a\"))\n",
    "print(\"String Function 5: \",S1.encode())\n",
    "print(\"String Function 6: \",S1.lower())\n",
    "print(\"String Function 7: \",S1.find(\"Ren\"))\n",
    "print(\"String Function 8: \",S1.replace(\"a\",\"z\"))\n",
    "print(\"String Function 9: \",S1.split())\n",
    "print(\"String Function 10: \",S1.splitlines())\n",
    "print(\"String Function 11: \",S1.startswith(\"R\"))\n",
    "print(\"String Function 12: \",S1.strip())\n",
    "print(\"String Function 13: \",S1.swapcase())\n",
    "print(\"String Function 14: \",S1.endswith(\"S\"))\n",
    "print(\"String Function 15: \",S1.upper())"
   ]
  },
  {
   "cell_type": "markdown",
   "metadata": {},
   "source": [
    "__Question 3:__\n",
    "Write a Python program to check if the given string is a Palindrome or Anagram or None of them.\n",
    "Display the message accordingly to the user.\n"
   ]
  },
  {
   "cell_type": "code",
   "execution_count": 5,
   "metadata": {},
   "outputs": [
    {
     "name": "stdout",
     "output_type": "stream",
     "text": [
      "Given Strings saikalyan and kalsaiyan are Anagram\n"
     ]
    }
   ],
   "source": [
    "S2=\"Saikalyan\"\n",
    "S2=S2.lower()\n",
    "S22=\"Kalsaiyan\"\n",
    "S22=S22.lower()\n",
    "rev_S2=reversed(S2)\n",
    "if S2==rev_S2:\n",
    "    print(\"Given String is a Palindrome\")\n",
    "elif sorted(S2)==sorted(S22):\n",
    "    print(\"Given Strings\",S2,\"and\",S22,\"are Anagram\")\n",
    "else:\n",
    "    print(\"Given Strings are not Palindrome or Anagram\")\n"
   ]
  },
  {
   "cell_type": "markdown",
   "metadata": {},
   "source": [
    "__Question 4:__\n",
    "Write a Python's user defined function that removes all the additional characters from the string\n",
    "and converts it finally to lower case using built-in lower(). eg: If the string is \"Dr. Darshan Ingle\n",
    "@AI-ML Trainer\", then the output be \"drdarshaningleaimltrainer\"."
   ]
  },
  {
   "cell_type": "code",
   "execution_count": 16,
   "metadata": {},
   "outputs": [
    {
     "name": "stdout",
     "output_type": "stream",
     "text": [
      "Output = drdarshaningleaimltrainer\n"
     ]
    }
   ],
   "source": [
    "S3=\"Dr. Darshan Ingle @AI-ML Trainer\"\n",
    "S3=S3.lower()\n",
    "Temp_String=\"\"\n",
    "for char in S3:\n",
    "    if char.isalpha():\n",
    "        Temp_String=Temp_String + char\n",
    "        \n",
    "print(\"Output =\",Temp_String)"
   ]
  }
 ],
 "metadata": {
  "kernelspec": {
   "display_name": "Python 3",
   "language": "python",
   "name": "python3"
  },
  "language_info": {
   "codemirror_mode": {
    "name": "ipython",
    "version": 3
   },
   "file_extension": ".py",
   "mimetype": "text/x-python",
   "name": "python",
   "nbconvert_exporter": "python",
   "pygments_lexer": "ipython3",
   "version": "3.7.6"
  }
 },
 "nbformat": 4,
 "nbformat_minor": 4
}
