{
 "cells": [
  {
   "cell_type": "markdown",
   "metadata": {},
   "source": [
    "# Assignment Day 6"
   ]
  },
  {
   "cell_type": "markdown",
   "metadata": {},
   "source": [
    "__Question 1:__\n",
    "Assuming that we have some email addresses in the \"username@companyname.com\" format, please write program\n",
    "to print the company name of a given email address. Both user names and company names are composed of letters\n",
    "only."
   ]
  },
  {
   "cell_type": "code",
   "execution_count": 33,
   "metadata": {},
   "outputs": [
    {
     "name": "stdout",
     "output_type": "stream",
     "text": [
      "Please Enter your email id in this format username@companyname.com:john@google.com\n",
      "Company Name:  google\n"
     ]
    }
   ],
   "source": [
    "import re\n",
    "a=input(\"Please Enter your email id in this format username@companyname.com:\")\n",
    "b=re.split('[@.]',a)\n",
    "print(\"Company Name: \",b[1])\n",
    "\n"
   ]
  },
  {
   "cell_type": "markdown",
   "metadata": {},
   "source": [
    "__Question 2:__\n",
    "Write a program that accepts a comma-separated sequence of words as input and prints the words in a comma\n",
    "separated sequence after sorting them alphabetically."
   ]
  },
  {
   "cell_type": "code",
   "execution_count": 34,
   "metadata": {},
   "outputs": [
    {
     "name": "stdout",
     "output_type": "stream",
     "text": [
      "Enter a sequence of comma-seperated words:hello,bill,kill,sin,cult,ML,AI\n",
      "Entered Input: hello,bill,kill,sin,cult,ML,AI\n",
      "Output: AI,ML,bill,cult,hello,kill,sin\n"
     ]
    }
   ],
   "source": [
    "c=input(\"Enter a sequence of comma-seperated words:\")\n",
    "print(\"Entered Input:\",c)\n",
    "list1=c.split(',')\n",
    "print(\"Output:\",','.join(sorted(list1)))"
   ]
  },
  {
   "cell_type": "markdown",
   "metadata": {},
   "source": [
    "__Question 3:__\n",
    "Create your own Jupyter Notebook for Sets."
   ]
  },
  {
   "cell_type": "markdown",
   "metadata": {},
   "source": [
    "__Refer to the Other File with File name \"Sets Notebook.ipynb\" Present in the Same Folder.__"
   ]
  },
  {
   "cell_type": "markdown",
   "metadata": {},
   "source": [
    "__Question 4:__\n",
    "Given a list of n-1 numbers ranging from 1 to n, your task is to find the missing number. There are no duplicates."
   ]
  },
  {
   "cell_type": "code",
   "execution_count": 35,
   "metadata": {},
   "outputs": [
    {
     "name": "stdout",
     "output_type": "stream",
     "text": [
      "Enter number from 1 to n with a space seperation:5 6 7 9 10 1 2 3 4\n",
      "Entered Input: [5, 6, 7, 9, 10, 1, 2, 3, 4]\n",
      "Entered Sorted Input: [1, 2, 3, 4, 5, 6, 7, 9, 10]\n",
      "Missing Number: 8\n"
     ]
    }
   ],
   "source": [
    "d=list(input(\"Enter number from 1 to n with a space seperation:\").split(' '))\n",
    "d2=list(map(int, d))\n",
    "d1=sorted(d2)\n",
    "print(\"Entered Input:\",d2)\n",
    "print(\"Entered Sorted Input:\",d1)\n",
    "sum_list=sum(d1)\n",
    "last_number=d1[-1]\n",
    "original_sum=((last_number)*(last_number+1))/2\n",
    "print(\"Missing Number:\",int(original_sum-sum_list))"
   ]
  },
  {
   "cell_type": "markdown",
   "metadata": {},
   "source": [
    "__Question 5:__\n",
    "With a given list L, write a program to print this list L after removing all duplicate values with original order reserved."
   ]
  },
  {
   "cell_type": "code",
   "execution_count": 36,
   "metadata": {},
   "outputs": [
    {
     "name": "stdout",
     "output_type": "stream",
     "text": [
      "Enter number from 1 to n with a space seperation:12 24 35 24 88 120 155 88 120 155\n",
      "The original list is : [12, 24, 35, 24, 88, 120, 155, 88, 120, 155]\n",
      "The list after removing duplicates : [12, 24, 35, 88, 120, 155]\n"
     ]
    }
   ],
   "source": [
    "L=list(input(\"Enter number from 1 to n with a space seperation:\").split(' '))\n",
    "L2=list(map(int, L)) \n",
    "print (\"The original list is : \" +  str(L2)) \n",
    "L1 = [] \n",
    "for i in L: \n",
    "    if i not in L1: \n",
    "        L1.append(i) \n",
    "print (\"The list after removing duplicates : \" + str(list(map(int, L1))))"
   ]
  }
 ],
 "metadata": {
  "kernelspec": {
   "display_name": "Python 3",
   "language": "python",
   "name": "python3"
  },
  "language_info": {
   "codemirror_mode": {
    "name": "ipython",
    "version": 3
   },
   "file_extension": ".py",
   "mimetype": "text/x-python",
   "name": "python",
   "nbconvert_exporter": "python",
   "pygments_lexer": "ipython3",
   "version": "3.7.6"
  }
 },
 "nbformat": 4,
 "nbformat_minor": 4
}
