{
 "cells": [
  {
   "cell_type": "markdown",
   "metadata": {},
   "source": [
    "# Sets"
   ]
  },
  {
   "cell_type": "markdown",
   "metadata": {},
   "source": [
    "__Definition:__\n",
    "An Unordered and Unindexed collection is called a __Set__.\n",
    "\n",
    "__Example:__ {\"King\",\"Queen\",\"Rook\"}"
   ]
  },
  {
   "cell_type": "markdown",
   "metadata": {},
   "source": [
    "Sets are unordered so we cannot predict in which order they will be printed.\n",
    "\n",
    "Sets are unindexed so we cannot access them using an index value but we can loop through using a for loop."
   ]
  },
  {
   "cell_type": "code",
   "execution_count": 1,
   "metadata": {},
   "outputs": [
    {
     "name": "stdout",
     "output_type": "stream",
     "text": [
      "Rook\n",
      "King\n",
      "Queen\n"
     ]
    }
   ],
   "source": [
    "#Example to loop through the Set\n",
    "Set1={\"King\",\"Queen\",\"Rook\"}\n",
    "for x in Set1:\n",
    "    print(x)"
   ]
  },
  {
   "cell_type": "code",
   "execution_count": 2,
   "metadata": {},
   "outputs": [
    {
     "name": "stdout",
     "output_type": "stream",
     "text": [
      "True\n"
     ]
    }
   ],
   "source": [
    "#Example to find whether Queen is present in the Set or not\n",
    "Set2={\"King\",\"Queen\",\"Rook\"}\n",
    "print(\"Queen\" in Set2)"
   ]
  },
  {
   "cell_type": "markdown",
   "metadata": {},
   "source": [
    "__Once a set is created, you cannot change its items, but you can add new items.__\n",
    "\n",
    "We can add 1 item at a time or multiple items using __add()__ and __update()__ functions."
   ]
  },
  {
   "cell_type": "code",
   "execution_count": 4,
   "metadata": {},
   "outputs": [
    {
     "name": "stdout",
     "output_type": "stream",
     "text": [
      "{'Rook', 'King', 'Pawn', 'Queen'}\n"
     ]
    }
   ],
   "source": [
    "#Example for add() function\n",
    "Set1={\"King\",\"Queen\",\"Rook\"}\n",
    "Set1.add(\"Pawn\")\n",
    "print(Set1)"
   ]
  },
  {
   "cell_type": "code",
   "execution_count": 6,
   "metadata": {},
   "outputs": [
    {
     "name": "stdout",
     "output_type": "stream",
     "text": [
      "{'King', 'Knight', 'Pawn', 'Bishop', 'Rook', 'Queen'}\n"
     ]
    }
   ],
   "source": [
    "#Example for update() function\n",
    "Set2={\"King\",\"Queen\",\"Rook\"}\n",
    "Set2.update([\"Pawn\",\"Bishop\",\"Knight\"])\n",
    "print(Set2)"
   ]
  },
  {
   "cell_type": "markdown",
   "metadata": {},
   "source": [
    "__Join 2 Sets__\n",
    "\n",
    "There are several ways to join 2 or more sets they are union() and update() functions.\n",
    "\n",
    "__union():__ It returns a new set containing all items from both sets.\n",
    "\n",
    "__update():__ It inserts all the items from one set into another.\n",
    "\n",
    "__union() and update() will exclude if any duplicates exist.__"
   ]
  },
  {
   "cell_type": "code",
   "execution_count": 9,
   "metadata": {},
   "outputs": [
    {
     "name": "stdout",
     "output_type": "stream",
     "text": [
      "{1, 2, 3, 'c', 'b', 'a'}\n"
     ]
    }
   ],
   "source": [
    "#Example for union()\n",
    "set1 = {\"a\", \"b\" , \"c\"}\n",
    "set2 = {1, 2, 3}\n",
    "\n",
    "set3 = set1.union(set2)\n",
    "print(set3)"
   ]
  },
  {
   "cell_type": "code",
   "execution_count": 10,
   "metadata": {},
   "outputs": [
    {
     "name": "stdout",
     "output_type": "stream",
     "text": [
      "{1, 2, 3, 'c', 'b', 'a'}\n"
     ]
    }
   ],
   "source": [
    "#Example for update()\n",
    "set1 = {\"a\", \"b\" , \"c\"}\n",
    "set2 = {1, 2, 3}\n",
    "\n",
    "set1.update(set2)\n",
    "print(set1)"
   ]
  },
  {
   "cell_type": "markdown",
   "metadata": {},
   "source": [
    "__Set Constructor__\n",
    "\n",
    "set() constructor can also be used to make a set."
   ]
  },
  {
   "cell_type": "code",
   "execution_count": 11,
   "metadata": {},
   "outputs": [
    {
     "name": "stdout",
     "output_type": "stream",
     "text": [
      "{'Rook', 'King', 'Queen'}\n"
     ]
    }
   ],
   "source": [
    "#Example for set() constructor\n",
    "\n",
    "Set1 = set((\"King\",\"Queen\",\"Rook\")) # note the double round-brackets\n",
    "print(Set1)"
   ]
  },
  {
   "cell_type": "markdown",
   "metadata": {},
   "source": [
    "# Sets have many built in methods."
   ]
  },
  {
   "cell_type": "markdown",
   "metadata": {},
   "source": [
    "__Method                                    \t    Description__\n",
    "\n",
    "__add():__\t                                    \tAdds an element to the set\n",
    "\n",
    "__clear():__\t                                    Removes all the elements from the set\n",
    "\n",
    "__copy():__\t                                    \tReturns a copy of the set\n",
    "\n",
    "__difference():__\t                                Returns a set containing the difference between two or more sets\n",
    "\n",
    "__difference_update():__\t                        Removes the items in this set that are also included in another,                                     \t                       specified set\n",
    "\n",
    "__discard():__\t                                    Remove the specified item\n",
    "\n",
    "__intersection():__\t                                Returns a set, that is the intersection of two other sets\n",
    "\n",
    "__intersection_update():__\t                        Removes the items in this set that are not present in other, specified \t                        \t                           set(s)\n",
    "\n",
    "__isdisjoint():__\t                                Returns whether two sets have a intersection or not\n",
    "\n",
    "__issubset():__\t                                    Returns whether another set contains this set or not\n",
    "\n",
    "__issuperset():__                                    Returns whether this set contains another set or not\n",
    "\n",
    "__pop():__\t                                    \tRemoves an element from the set\n",
    "\n",
    "__remove():__\t                                    Removes the specified element\n",
    "\n",
    "__symmetric_difference():__\t                        Returns a set with the symmetric differences of two sets\n",
    "\n",
    "__symmetric_difference_update():__\t                Inserts the symmetric differences from this set and another\n",
    "\n",
    "__union():__\t                                    Return a set containing the union of sets\n",
    "\n",
    "__update():__\t                                    pdate the set with the union of this set and others\n"
   ]
  }
 ],
 "metadata": {
  "kernelspec": {
   "display_name": "Python 3",
   "language": "python",
   "name": "python3"
  },
  "language_info": {
   "codemirror_mode": {
    "name": "ipython",
    "version": 3
   },
   "file_extension": ".py",
   "mimetype": "text/x-python",
   "name": "python",
   "nbconvert_exporter": "python",
   "pygments_lexer": "ipython3",
   "version": "3.7.6"
  }
 },
 "nbformat": 4,
 "nbformat_minor": 4
}
