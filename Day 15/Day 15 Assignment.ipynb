{
 "cells": [
  {
   "cell_type": "markdown",
   "metadata": {},
   "source": [
    "# Day 15 Assignment"
   ]
  },
  {
   "cell_type": "markdown",
   "metadata": {},
   "source": [
    "__1. Create a 3x3x3 array with random values__"
   ]
  },
  {
   "cell_type": "code",
   "execution_count": 1,
   "metadata": {},
   "outputs": [
    {
     "name": "stdout",
     "output_type": "stream",
     "text": [
      "Example for  (3, 3, 3)  Array with Random Values \n",
      " [[[0.34021193 0.44705804 0.8785484 ]\n",
      "  [0.44491102 0.07088335 0.47136455]\n",
      "  [0.18812422 0.13969388 0.93069807]]\n",
      "\n",
      " [[0.78699658 0.13211739 0.05430579]\n",
      "  [0.32500755 0.14446348 0.57157285]\n",
      "  [0.626377   0.8675607  0.1859079 ]]\n",
      "\n",
      " [[0.34156852 0.81183133 0.54288539]\n",
      "  [0.82252212 0.00125391 0.13071066]\n",
      "  [0.23813357 0.22681109 0.86734711]]]\n"
     ]
    }
   ],
   "source": [
    "import numpy as np\n",
    "q1=np.random.random((3,3,3))\n",
    "\n",
    "print(\"Example for \",q1.shape,\" Array with Random Values\",\"\\n\",q1)"
   ]
  },
  {
   "cell_type": "markdown",
   "metadata": {},
   "source": [
    "__2.Create a 5x5 matrix with values 1,2,3,4 just below the diagonal__"
   ]
  },
  {
   "cell_type": "code",
   "execution_count": 2,
   "metadata": {},
   "outputs": [
    {
     "name": "stdout",
     "output_type": "stream",
     "text": [
      "(5, 5)  matrix with values 1,2,3,4 just below the diagonal \n",
      " [[0 0 0 0 0]\n",
      " [1 0 0 0 0]\n",
      " [0 2 0 0 0]\n",
      " [0 0 3 0 0]\n",
      " [0 0 0 4 0]]\n"
     ]
    }
   ],
   "source": [
    "q2=np.zeros((5,5))\n",
    "q2=np.diag(1+np.arange(4),k = -1)\n",
    "print(q2.shape,\" matrix with values 1,2,3,4 just below the diagonal\",\"\\n\",q2)"
   ]
  },
  {
   "cell_type": "markdown",
   "metadata": {},
   "source": [
    "__3.Create a 8x8 matrix and fill it with a checkerboard pattern__"
   ]
  },
  {
   "cell_type": "code",
   "execution_count": 3,
   "metadata": {},
   "outputs": [
    {
     "name": "stdout",
     "output_type": "stream",
     "text": [
      "Checkboard Pattern (8, 8)  matrix \n",
      " [[0. 1. 0. 1. 0. 1. 0. 1.]\n",
      " [1. 0. 1. 0. 1. 0. 1. 0.]\n",
      " [0. 1. 0. 1. 0. 1. 0. 1.]\n",
      " [1. 0. 1. 0. 1. 0. 1. 0.]\n",
      " [0. 1. 0. 1. 0. 1. 0. 1.]\n",
      " [1. 0. 1. 0. 1. 0. 1. 0.]\n",
      " [0. 1. 0. 1. 0. 1. 0. 1.]\n",
      " [1. 0. 1. 0. 1. 0. 1. 0.]]\n"
     ]
    }
   ],
   "source": [
    "q3=np.ones((8,8))\n",
    "q3[::2,::2] = 0\n",
    "q3[1::2,1::2] = 0\n",
    "print(\"Checkboard Pattern\",q3.shape,\" matrix\",\"\\n\",q3)"
   ]
  },
  {
   "cell_type": "markdown",
   "metadata": {},
   "source": [
    "__4. Normalize a 5x5 random matrix__"
   ]
  },
  {
   "cell_type": "code",
   "execution_count": 4,
   "metadata": {},
   "outputs": [
    {
     "name": "stdout",
     "output_type": "stream",
     "text": [
      "(5, 5)  Random Matrix\n",
      " [[0.24671656 0.83555221 0.63516501 0.41328117 0.04325159]\n",
      " [0.56786426 0.51697449 0.42683151 0.32185832 0.1612585 ]\n",
      " [0.12669659 0.70184649 0.35988442 0.18257537 0.84181211]\n",
      " [0.21352507 0.64755753 0.77939055 0.79304562 0.32258715]\n",
      " [0.76838406 0.43444665 0.70213796 0.10172022 0.29431978]] \n",
      "\n",
      "Normalized  (5, 5)  matrix \n",
      " [[0.25478967 0.99216102 0.7412255  0.46337074 0.        ]\n",
      " [0.65694791 0.59322103 0.48033919 0.34888618 0.14777454]\n",
      " [0.10449428 0.82472759 0.39650449 0.17446866 1.        ]\n",
      " [0.21322552 0.75674407 0.92183239 0.938932   0.34979886]\n",
      " [0.90804948 0.48987528 0.82509259 0.07321753 0.31440096]]\n"
     ]
    }
   ],
   "source": [
    "q4= np.random.random((5,5))\n",
    "print(q4.shape,\" Random Matrix\\n\",q4,\"\\n\")\n",
    "q4mx, q4mn = q4.max(), q4.min()\n",
    "q4 = (q4 - q4mn)/(q4mx - q4mn)\n",
    "print(\"Normalized \",q4.shape,\" matrix\",\"\\n\",q4)"
   ]
  },
  {
   "cell_type": "markdown",
   "metadata": {},
   "source": [
    "__5.  How to find common values between two arrays?__"
   ]
  },
  {
   "cell_type": "code",
   "execution_count": 7,
   "metadata": {},
   "outputs": [
    {
     "name": "stdout",
     "output_type": "stream",
     "text": [
      "Common values between Array 1 [ 1  2  3  4  5  6  7  8  9 10] and Array 2 [ 1  3  5  7  9 11 13 15 17 19]  is [1 3 5 7 9]\n"
     ]
    }
   ],
   "source": [
    "q5_array1=np.array([1,2,3,4,5,6,7,8,9,10])\n",
    "q5_array2=np.array([1,3,5,7,9,11,13,15,17,19])\n",
    "print(\"Common values between Array 1\",q5_array1,\"and Array 2\",q5_array2,\" is\",np.intersect1d(q5_array1,q5_array2))"
   ]
  },
  {
   "cell_type": "markdown",
   "metadata": {},
   "source": [
    "__6.How to get the dates of yesterday, today and tomorrow?__"
   ]
  },
  {
   "cell_type": "code",
   "execution_count": 11,
   "metadata": {},
   "outputs": [
    {
     "name": "stdout",
     "output_type": "stream",
     "text": [
      "Yesterday: 2020-08-04 \n",
      "Today: 2020-08-05 \n",
      "Tomorrow: 2020-08-06\n"
     ]
    }
   ],
   "source": [
    "import datetime\n",
    "q6_Yesterday=datetime.date.today()-datetime.timedelta(1)\n",
    "q6_Today=datetime.date.today()\n",
    "q6_Tomorrow=datetime.date.today()+datetime.timedelta(1)\n",
    "print(\"Yesterday:\",q6_Yesterday,\"\\nToday:\",q6_Today,\"\\nTomorrow:\",q6_Tomorrow)"
   ]
  },
  {
   "cell_type": "markdown",
   "metadata": {},
   "source": [
    "__7. Consider two random array A and B, check if they are equal__"
   ]
  },
  {
   "cell_type": "code",
   "execution_count": 16,
   "metadata": {},
   "outputs": [
    {
     "name": "stdout",
     "output_type": "stream",
     "text": [
      "Considered 2 Random Arrays where Array A: [1 3 1 3 3 2 2 0 1 3] and Array B: [3 1 3 1 0 1 2 2 0 3]\n",
      "\n",
      "Checking if Array A and Array B are equal Oh No they are not equal\n"
     ]
    }
   ],
   "source": [
    "q7_Array_A=np.random.randint(0,4,10)\n",
    "q7_Array_B=np.random.randint(0,4,10)\n",
    "print(\"Considered 2 Random Arrays where Array A:\",q7_Array_A,\"and Array B:\",q7_Array_B)\n",
    "if(np.allclose(q7_Array_A,q7_Array_B)):\n",
    "    print(\"\\nChecking if Array A and Array B are equal and Yes they are equal\")\n",
    "else:\n",
    "    print(\"\\nChecking if Array A and Array B are equal Oh No they are not equal\")"
   ]
  },
  {
   "cell_type": "markdown",
   "metadata": {},
   "source": [
    "__8.Create random vector of size 10 and replace the maximum value by 0__"
   ]
  },
  {
   "cell_type": "code",
   "execution_count": 23,
   "metadata": {},
   "outputs": [
    {
     "name": "stdout",
     "output_type": "stream",
     "text": [
      "Random Vector of Size 10: [0.31669883 0.24461635 0.72419992 0.2009973  0.53670692 0.80318657\n",
      " 0.74026719 0.98558001 0.46384181 0.58858542]\n",
      "\n",
      "Random Vector of Size 10 after replacing Maximum value by 0: [0.31669883 0.24461635 0.72419992 0.2009973  0.53670692 0.80318657\n",
      " 0.74026719 0.         0.46384181 0.58858542]\n"
     ]
    }
   ],
   "source": [
    "q8_vector=np.random.random(10)\n",
    "print(\"Random Vector of Size 10:\",q8_vector)\n",
    "q8_vector[q8_vector.argmax()]=0\n",
    "print(\"\\nRandom Vector of Size 10 after replacing Maximum value by 0:\",q8_vector)"
   ]
  },
  {
   "cell_type": "markdown",
   "metadata": {},
   "source": [
    "__9. How to print all the values of an array?__"
   ]
  },
  {
   "cell_type": "code",
   "execution_count": 41,
   "metadata": {},
   "outputs": [
    {
     "name": "stdout",
     "output_type": "stream",
     "text": [
      "Created a Random Array of 40x40 and it is not printing all the values:\n",
      " [[68 20 14 ... 24 87 74]\n",
      " [37 92 41 ... 61 79 98]\n",
      " [ 4 28 82 ... 24 38 19]\n",
      " ...\n",
      " [69 33 86 ... 93 99 75]\n",
      " [ 6 73 12 ... 57 65 83]\n",
      " [21 72 93 ... 51 41 60]]\n",
      "Created a Random Array of 40x40 and it is now printing all the values:\n",
      " [[68 20 14 25 79 57  4  5 82 23 62 80 96 78 43 37 29 90 97 82 45 73 81 43\n",
      "  47 89 87 17 68 98 32 36  2 28 78  8 99 24 87 74]\n",
      " [37 92 41 98 81 44 72 25 84 67 57 72  8 15 83 52 99 70 59 42 45 42 30 19\n",
      "  52 19 80 64 37  4 12 10 31 38 31 18 61 61 79 98]\n",
      " [ 4 28 82 79 70 25 92 21  6 43 24 37 19 56 91 12 29 78  1 44 55  9 57 20\n",
      "   5 44  9 70 46 67 72 74 32 91 74  5 87 24 38 19]\n",
      " [47 19 77 73 29 34 17 10 54 90 11 31 13 40 18 31 74 25 33 86 71 87 17 91\n",
      "  42  7 77 29 25 91  6 48 35 76 50 91 66 73 35  2]\n",
      " [50 69 72 91 92 18 83 32 42  7 66 15  9 95 51 77 69 47 85 40 61 53 10  6\n",
      "   5  1 59  3 37 58 56 88 91 95 98 15  6  5 34  3]\n",
      " [81 27 38 52 63 65 49 30 31 85 95 13 85 18 72 28 23 27 63 14 81 92 33 60\n",
      "  77  8 47 60 58 69 68 75  4 60 19 74 73  2 44 91]\n",
      " [92 93 27 51 22 87 48 89 43 45 88 18 45 20 22 20  6 86 79 54 83 91 47 73\n",
      "  31 66 99 44 73 11 98 31 42 45 17 34 28 84 89 66]\n",
      " [53 37 57  6  4 63 56 46 30 18  9 31 24 31 48 90 30 92 70  8 27 73 89 53\n",
      "  54 86 69 30  8 44 30 60 25 41 66 20 58 25 49 20]\n",
      " [17 17 26 63  7 45 46  4 50 97 45 11 21 82 28 81 89 16 58 94 17 12 39 64\n",
      "  98 20 73 31 24 57 76 60 97 40 23 68 78 37 45 11]\n",
      " [31 46 15 37 75 99 74  1 84  1 48 75 66 77 26 56 27 42  6 84 79 51 14 44\n",
      "  54 47 79 66 81 80 32 76 75 85 56 47 25 34 28 36]\n",
      " [94 98 65 46  7 48 46 52 25 30 67  9  9 40 96  3 96 33 57 86 94 60 67 97\n",
      "   8 66 62 69 69 46 21 46 62 55 15 67 98  6 44  8]\n",
      " [51  6 42 58 15 39 23 47 89 44 62  4 73 97 30 58 68 22 53 42 13 94 11 62\n",
      "   8 29 33 79 17 33 20 30 75 91 71 83 84 16 56 70]\n",
      " [27 61 25 37 27 85 60 29 26 50 31 32 83 79 18 57 60 79 39 45 69 30 25 49\n",
      "  72 58 14  8 63 22 15 84 99 20 85 26  1 79 60 27]\n",
      " [84 82 35 38 12 10 56 36 14 85 18 55 36 45 48  4 84 70 84 43 67 44 20 11\n",
      "   1 99 51 86 28 76  4  2 51 93 43  7  6 81 88 49]\n",
      " [55 20  8 86 95 56 70 46 78 26 68 85  6 32 78 62  6 42 40 13 23 90 78 21\n",
      "  69 89 59 36 65 73 31 26 32 99 77 25 91  7 80 29]\n",
      " [20 42 11 29  7 47 16 91 81 48 69 32 26 51  7 30 21 48  1  2 46  4 78 85\n",
      "   7 39  9 48 97 77 78 95 38 26 99 62 58 70 15 47]\n",
      " [86 48 72 95 76  6  8 26 18 60 22 84 29 40 31 47 31 80 41 50 15  6 74 16\n",
      "  12 35 48 71 36  5 50 22 85 92 26 52 85 53 81 21]\n",
      " [86  1 34 10 98 84 77  8 47 40 32 47 69 77  6 60 51 96 68 10 42 35 29 49\n",
      "  11 91 15 97 98 14 64 32 11 57 90 12 21 24 22 48]\n",
      " [51 95 48 17 50 37 55 21 60 97  3 67  8 34  3 33 70 45 97 24 75 70  8 15\n",
      "  57 24 77 75 99 35 55 42 98 83 10 39 88 11 69 83]\n",
      " [42 82 56 41 57 64 70 89 18 42 85 50 53 63 24  7 61 81 60 11 70  9 65 59\n",
      "  29 80 46 17 35 41 94 25 80  2 95 50 83 22  3 41]\n",
      " [41 34 19 69 89 48 30 39 24 31 27 95 73 31 30 27 87 50 70  9 49 96 32 25\n",
      "  94 16 25 86 89 66 90 63 79 66 99  8 35 83 83 56]\n",
      " [72 58 13 38  4 42 19 21 49 26 76 59 63 50 90 61 79 19 96 48 47 82 36 63\n",
      "  70 29 74 17 49 76 43 95 32 53 35 63 15 55 95 32]\n",
      " [86 93 65 71 18 29 13 90 18 13 69 84 51 58 21 64 11 85 90 40 97 28 92 46\n",
      "  31 68 33 81 27 16 84 75 18 16 24 37 53 56 28 46]\n",
      " [86 92 35 28 41 29 46 53 62 21  6 11 30 87 77 54 15 56 14 42 57 64 63 83\n",
      "  12 22  2 39 60 73 72 48 93 94 94  6 49 76 13 77]\n",
      " [28  5 44 59 84 15 79 18  9 47 99 25 51 28 90 72 53 33  3 47  7 67 92 70\n",
      "  95 77  6 13 13 35 46 97 67 51 11 90  7 64 11 34]\n",
      " [73 64 40 39 16 17 76 63 65 21 66 78  1 68 61 21 55 19 74 27 89 49 58 98\n",
      "  69  1 55 56  4 62 71 20 28 60 11 25 29 79 65 20]\n",
      " [23 28 97 25 69 67 63 91 45 40 70 28 22 52 87 77 62 72 99 29 60 88 47 82\n",
      "  97 89 72 20 24 75 18 29 29 56 40 31 24 45 85 86]\n",
      " [15 40 68 41 36 35 34  5 90 16 89 88 32 57 85 46 91 61 13 28 63 40 99 53\n",
      "  35 35 33  7 63 95 87 28 14 12 85 42 68 58 45 14]\n",
      " [66 35 71 84 72 77 73  2 97 31 23 11 17 27 94  4 21 53 37 82 12 14 85 21\n",
      "  49 41 26 94 20 67  9 88 64 76 51 38 14 18 18 28]\n",
      " [22 38 47 92 42 55 79 38 44 58 17 63 16 74 99 88  3 51 39 13 92 71 84 42\n",
      "  26 49 67 31 38 84 63 59  9 97 27 32 43 92 94 47]\n",
      " [59 90 78 62 83  7  5 40 49 15 72 94 24 49 69 73 84 30 24 67 39 92 22 61\n",
      "  52 84 13 20 79  9 30 46 91 17 21 79 17 25 96 36]\n",
      " [95 37 73 25 29 92 32 66 91 20 73 89 57 51 97 11 23 28 53 60 39 46 62 62\n",
      "   8  8 50 34 69 28 10 15 24  3 67 85 44  5 33 29]\n",
      " [ 6 81 47 29 58 78 39  7 79 13 26 66 89 99 82 80 38  7 92 62  4 31 30 27\n",
      "  77 94 72  6 53 81 26 71 42  8 67 57 29 22  7 37]\n",
      " [68 37 47 87 40 65 18 98  6 61 38 10 12 82 51  5 23 92 86 32 64 36 15 79\n",
      "  50 64  5  9 91 41 32 43 69 30 15 59 57 78 48 23]\n",
      " [44 65 86 19 63  1 62 77 60 53 71 32 69 43 78 72 64 89 18 35 96 91 39 42\n",
      "  94 79 29 48 28 96 53 39 36 10 68 84 20 46 26 49]\n",
      " [21 73 57 72 50 66 44 98 44 64 48 31 17 76 78 66 80 74 74 23 31 82 20 27\n",
      "  78 37 90 95 28 86 70 20 47 73 34 89  8 29  2  5]\n",
      " [30 32 34 42 74 60 29 70 23 79 42 32 13 45 63  4 66 33  4 15  6 36 65 36\n",
      "  39  9  5 80 16 87 30 75 95  8 30 38  1 74 51 49]\n",
      " [69 33 86  9 80 93 99 18 75 22 77 72 47  8 87 23 80 40 60 76  6 28 99 53\n",
      "  51 84 67 74 65 45 58 62 62 56 76 75 97 93 99 75]\n",
      " [ 6 73 12 10 24 57 33 34 26 81 57 49 25 19 31 65 38 25 99 73  5 95 22 11\n",
      "  87 62 28 85 48 11 40 10  4 21 52 99 60 57 65 83]\n",
      " [21 72 93 78 87 83 22 71 78 15 90 62 60 38 41 51  3 93 34 18 82 93 64 46\n",
      "  77 68 18 74 47 88 74 29 68 25 53 74 11 51 41 60]]\n"
     ]
    }
   ],
   "source": [
    "import sys\n",
    "q9_array=np.random.randint(1,100,(40,40))\n",
    "print(\"Created a Random Array of 40x40 and it is not printing all the values:\\n\",q9_array)\n",
    "np.set_printoptions(threshold=sys.maxsize)\n",
    "print(\"Created a Random Array of 40x40 and it is now printing all the values:\\n\",q9_array)\n"
   ]
  },
  {
   "cell_type": "markdown",
   "metadata": {},
   "source": [
    "__10.Subtract the mean of each row of a matrix__"
   ]
  },
  {
   "cell_type": "code",
   "execution_count": 46,
   "metadata": {},
   "outputs": [
    {
     "name": "stdout",
     "output_type": "stream",
     "text": [
      "Sample Matrix:\n",
      " [[0.55646543 0.47817916 0.99892642 0.58931628 0.24486943]\n",
      " [0.43615998 0.89849987 0.070975   0.63734382 0.97247201]\n",
      " [0.56550694 0.00752947 0.35128586 0.5502118  0.18893665]\n",
      " [0.43178541 0.22988993 0.40957787 0.46306994 0.6284837 ]\n",
      " [0.81590317 0.43119588 0.21013203 0.31621283 0.97452385]]\n",
      "\n",
      "Matrix after Subtracting the Mean of each row of a Matrix:\n",
      " [[-0.01708592 -0.09537218  0.42537507  0.01576494 -0.32868191]\n",
      " [-0.16693016  0.29540974 -0.53211513  0.03425369  0.36938187]\n",
      " [ 0.2328128  -0.32516468  0.01859171  0.21751766 -0.14375749]\n",
      " [-0.00077596 -0.20267144 -0.0229835   0.03050857  0.19592233]\n",
      " [ 0.26630962 -0.11839768 -0.33946152 -0.23338072  0.42493029]]\n"
     ]
    }
   ],
   "source": [
    "q10_matrix=np.random.rand(5,5)\n",
    "print(\"Sample Matrix:\\n\",q10_matrix)\n",
    "q10_matrix=q10_matrix-q10_matrix.mean(axis=1,keepdims=True)\n",
    "print(\"\\nMatrix after Subtracting the Mean of each row of a Matrix:\\n\",q10_matrix)"
   ]
  },
  {
   "cell_type": "markdown",
   "metadata": {},
   "source": [
    "__11.Consider a given vector, how to add 1 to each element indexed by a second vector (be careful with repeated indices)?__"
   ]
  },
  {
   "cell_type": "code",
   "execution_count": 54,
   "metadata": {},
   "outputs": [
    {
     "name": "stdout",
     "output_type": "stream",
     "text": [
      "Vector 1:\n",
      " [ 9  1  5  7  1  5  9  1 11 14] \n",
      "Vector 2:\n",
      " [1 7 9 3 2 8 9 5 1 0] \n",
      "Vector 1 after adding 1 to each element indexed by a Vector 2 is:\n",
      " [ 2  2 15  8  6 12 15  6  2 10]\n"
     ]
    }
   ],
   "source": [
    "q11_vector1=np.random.randint(1,20,10)\n",
    "q11_vector2=np.random.randint(0,10,10)\n",
    "q11_vector3=q11_vector1[q11_vector2]+1\n",
    "print(\"Vector 1:\\n\",q11_vector1,\"\\nVector 2:\\n\",q11_vector2,\"\\nVector 1 after adding 1 to each element indexed by a Vector 2 is:\\n\",q11_vector3)"
   ]
  },
  {
   "cell_type": "markdown",
   "metadata": {},
   "source": [
    "__12.How to get the diagonal of a dot product?__"
   ]
  },
  {
   "cell_type": "code",
   "execution_count": 57,
   "metadata": {},
   "outputs": [
    {
     "name": "stdout",
     "output_type": "stream",
     "text": [
      "Random Array 1:\n",
      " [[5 6 1]\n",
      " [2 6 6]\n",
      " [1 4 5]] \n",
      "Random Array 2:\n",
      " [[13 18 19]\n",
      " [15 13 16]\n",
      " [14 16 15]] \n",
      "Dot Product of Array 1 and Array 2:\n",
      " [[169 184 206]\n",
      " [200 210 224]\n",
      " [143 150 158]] \n",
      "Diagonal Elements of Dot Product:\n",
      " [169 210 158]\n"
     ]
    }
   ],
   "source": [
    "q12_Array1=np.random.randint(1,10,(3,3))\n",
    "q12_Array2=np.random.randint(11,20,(3,3))\n",
    "print(\"Random Array 1:\\n\",q12_Array1,\"\\nRandom Array 2:\\n\",q12_Array2,\"\\nDot Product of Array 1 and Array 2:\\n\",np.dot(q12_Array1,q12_Array2),\"\\nDiagonal Elements of Dot Product:\\n\",np.diag(np.dot(q12_Array1,q12_Array2)))"
   ]
  },
  {
   "cell_type": "markdown",
   "metadata": {},
   "source": [
    "__13.How to find the most frequent value in an array?__"
   ]
  },
  {
   "cell_type": "code",
   "execution_count": 60,
   "metadata": {},
   "outputs": [
    {
     "name": "stdout",
     "output_type": "stream",
     "text": [
      "Random Array:\n",
      " [9 4 3 7 8 2 3 1 1 8 9 7 2 2 6 8 7 2 4 3 2 8 3 3 1 5 7 5 2 8 9 9 8 1 9 2 9\n",
      " 6 3 8 9 1 4 3 3 9 4 2 8 8 8 5 6 3 3 1 1 1 7 3 7 1 4 7 8 7 7 1 7 9 2 7 9 6\n",
      " 8 6 9 1 1 7 7 1 5 5 2 6 8 9 7 1 7 3 5 7 8 7 7 8 4 1] \n",
      "Most frequent Value of the Random Array:\n",
      " 7\n"
     ]
    }
   ],
   "source": [
    "q13_Array=np.random.randint(1,10,100)\n",
    "print(\"Random Array:\\n\",q13_Array,\"\\nMost frequent Value of the Random Array:\\n\",np.bincount(q13_Array).argmax())"
   ]
  },
  {
   "cell_type": "markdown",
   "metadata": {},
   "source": [
    "__14.How to get the n largest values of an array__"
   ]
  },
  {
   "cell_type": "code",
   "execution_count": 66,
   "metadata": {},
   "outputs": [
    {
     "name": "stdout",
     "output_type": "stream",
     "text": [
      "Random Array:\n",
      " [ 0  1  2  3  4  5  6  7  8  9 10 11 12 13 14 15 16 17 18 19 20 21 22 23\n",
      " 24 25 26 27 28 29 30 31 32 33 34 35 36 37 38 39 40 41 42 43 44 45 46 47\n",
      " 48 49 50 51 52 53 54 55 56 57 58 59 60 61 62 63 64 65 66 67 68 69 70 71\n",
      " 72 73 74 75 76 77 78 79 80 81 82 83 84 85 86 87 88 89 90 91 92 93 94 95\n",
      " 96 97 98 99]\n",
      "\n",
      "Enter the Value of N:10\n",
      "\n",
      " 10 Largest Values of the Random Array:\n",
      " [90 91 92 93 94 95 96 97 98 99]\n"
     ]
    }
   ],
   "source": [
    "q14_Array=np.arange(100)\n",
    "print(\"Random Array:\\n\",q14_Array)\n",
    "q14_N=int(input(\"\\nEnter the Value of N:\"))\n",
    "print(\"\\n\",q14_N,\"Largest Values of the Random Array:\\n\",q14_Array[np.argsort(q14_Array)[-q14_N:]])\n"
   ]
  },
  {
   "cell_type": "markdown",
   "metadata": {},
   "source": [
    "__15.How to create a record array from a regular array?__"
   ]
  },
  {
   "cell_type": "code",
   "execution_count": 70,
   "metadata": {},
   "outputs": [
    {
     "name": "stdout",
     "output_type": "stream",
     "text": [
      "Regular Array:\n",
      " [[2 5 6]\n",
      " [7 3 8]\n",
      " [7 2 2]] \n",
      "Record Array:\n",
      " [(2, 5, 6) (7, 3, 8) (7, 2, 2)]\n"
     ]
    }
   ],
   "source": [
    "q15_Array1=np.random.randint(1,10,(3,3))\n",
    "q15_Array2=np.core.records.fromarrays(q15_Array1.T,names='r1,r2,r3',formats='i8, i8, i8')\n",
    "print(\"Regular Array:\\n\",q15_Array1,\"\\nRecord Array:\\n\",q15_Array2)"
   ]
  }
 ],
 "metadata": {
  "kernelspec": {
   "display_name": "Python 3",
   "language": "python",
   "name": "python3"
  },
  "language_info": {
   "codemirror_mode": {
    "name": "ipython",
    "version": 3
   },
   "file_extension": ".py",
   "mimetype": "text/x-python",
   "name": "python",
   "nbconvert_exporter": "python",
   "pygments_lexer": "ipython3",
   "version": "3.7.6"
  }
 },
 "nbformat": 4,
 "nbformat_minor": 2
}
