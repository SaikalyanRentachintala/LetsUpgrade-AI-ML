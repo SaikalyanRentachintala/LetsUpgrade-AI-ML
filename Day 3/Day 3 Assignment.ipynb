{
 "cells": [
  {
   "cell_type": "markdown",
   "metadata": {},
   "source": [
    "# Assignment Day3"
   ]
  },
  {
   "cell_type": "markdown",
   "metadata": {},
   "source": [
    "__Question 1 :__\n",
    "Write a program to subtract two complex numbers in Python.\n"
   ]
  },
  {
   "cell_type": "code",
   "execution_count": 5,
   "metadata": {},
   "outputs": [
    {
     "name": "stdout",
     "output_type": "stream",
     "text": [
      "Subtraction of 2 Complex Numbers: (5+10j)\n"
     ]
    }
   ],
   "source": [
    "a=5+10j #1st Complex Number\n",
    "b=10+20j #2nd Complex Number\n",
    "c=b-a #Performing Subtraction\n",
    "print(\"Subtraction of 2 Complex Numbers:\",c)"
   ]
  },
  {
   "cell_type": "markdown",
   "metadata": {},
   "source": [
    "__Question 2 :__\n",
    "Write a program to find the fourth root of a number.\n"
   ]
  },
  {
   "cell_type": "code",
   "execution_count": 6,
   "metadata": {},
   "outputs": [
    {
     "data": {
      "text/plain": [
       "2.0"
      ]
     },
     "execution_count": 6,
     "metadata": {},
     "output_type": "execute_result"
    }
   ],
   "source": [
    "F4=16 #Number taken for caluclating Fourth Root\n",
    "F4**(1.0/4.0)"
   ]
  },
  {
   "cell_type": "markdown",
   "metadata": {},
   "source": [
    "__Question 3:__\n",
    "Write a program to swap two numbers in Python with the help of a temporary variable.\n"
   ]
  },
  {
   "cell_type": "code",
   "execution_count": 7,
   "metadata": {},
   "outputs": [
    {
     "name": "stdout",
     "output_type": "stream",
     "text": [
      "First Number before swapping: 7\n",
      "Second Number before swapping: 1981\n",
      "First Number after swapping: 1981\n",
      "Second Number after swapping: 7\n"
     ]
    }
   ],
   "source": [
    "first_num=7 #First Number\n",
    "second_num=1981 #Second Number\n",
    "print(\"First Number before swapping:\",first_num)\n",
    "print(\"Second Number before swapping:\",second_num)\n",
    "#Swapping of 2 Numbers using a temporary variable\n",
    "temp=first_num\n",
    "first_num=second_num\n",
    "second_num=temp\n",
    "print(\"First Number after swapping:\",first_num)\n",
    "print(\"Second Number after swapping:\",second_num)\n"
   ]
  },
  {
   "cell_type": "markdown",
   "metadata": {},
   "source": [
    "__Question 4:__\n",
    "Write a program to swap two numbers in Python without using a temporary variable."
   ]
  },
  {
   "cell_type": "markdown",
   "metadata": {},
   "source": [
    "first_num=7 #First Number\n",
    "second_num=1981 #Second Number\n",
    "print(\"First Number before swapping:\",first_num)\n",
    "print(\"Second Number before swapping:\",second_num)\n",
    "#Swapping of 2 Numbers without using a temporary variable\n",
    "first_num,second_num=second_num,first_num\n",
    "print(\"First Number after swapping:\",first_num)\n",
    "print(\"Second Number after swapping:\",second_num)"
   ]
  },
  {
   "cell_type": "markdown",
   "metadata": {},
   "source": [
    "__Question 5:__\n",
    "Write a program to convert fahrenheit to kelvin and celsius both."
   ]
  },
  {
   "cell_type": "code",
   "execution_count": 11,
   "metadata": {},
   "outputs": [
    {
     "name": "stdout",
     "output_type": "stream",
     "text": [
      "Fahrenheit Temperature = 123  to Kelvin = 324.05555555555554\n",
      "Fahrenheit Temperature = 123  to Celsius = 50.55555555555556\n"
     ]
    }
   ],
   "source": [
    "F=123 #Fahrenheit Temperature\n",
    "K=273.5 + ((F - 32.0) * (5.0/9.0)) #Converting Fahrenheit to Kelvin\n",
    "print(\"Fahrenheit Temperature =\",F,\" to Kelvin =\",K)\n",
    "C=((F - 32.0) * (5.0/9.0)) #Converting Fahrenheit to Celsius\n",
    "print(\"Fahrenheit Temperature =\",F,\" to Celsius =\",C)"
   ]
  },
  {
   "cell_type": "markdown",
   "metadata": {},
   "source": [
    "__Question 6:__\n",
    "Write a program to demonstrate all the available data types in Python. Hint: Use type() function."
   ]
  },
  {
   "cell_type": "code",
   "execution_count": 13,
   "metadata": {},
   "outputs": [
    {
     "name": "stdout",
     "output_type": "stream",
     "text": [
      "Type of  1234  is <class 'int'>\n",
      "Type of  55.5  is <class 'float'>\n",
      "Type of  (6+4j)  is <class 'complex'>\n",
      "Type of  Saikalyan  is <class 'str'>\n",
      "Type of  [11, 21, 31, 41]  is <class 'list'>\n",
      "Type of  (11, 21, 31, 41)  is <class 'tuple'>\n",
      "Type of  {1: 'one', 2: 'two', 3: 'three'}  is <class 'dict'>\n"
     ]
    }
   ],
   "source": [
    "int_variable=1234 #Integer Variable\n",
    "float_variable=55.50 #Float Variable\n",
    "complex_variable=6+4j #Complex Number Variable\n",
    "string_variable=\"Saikalyan\" #String Variable\n",
    "list_variable=[11,21,31,41] #List Variable\n",
    "tuple_variable=(11,21,31,41) #Tuple Variable\n",
    "dictionary_variable={1:\"one\", 2:\"two\", 3:\"three\"} #Dictionary Variable\n",
    "print(\"Type of \",int_variable,\" is\",type(int_variable))\n",
    "print(\"Type of \",float_variable,\" is\",type(float_variable))\n",
    "print(\"Type of \",complex_variable,\" is\",type(complex_variable))\n",
    "print(\"Type of \",string_variable,\" is\",type(string_variable))\n",
    "print(\"Type of \",list_variable,\" is\",type(list_variable))\n",
    "print(\"Type of \",tuple_variable,\" is\",type(tuple_variable))\n",
    "print(\"Type of \",dictionary_variable,\" is\",type(dictionary_variable))\n"
   ]
  },
  {
   "cell_type": "markdown",
   "metadata": {},
   "source": [
    "__Question 7:__\n",
    "Create a Markdown cell in jupyter and list the steps discussed in the session by Dr. Darshan\n",
    "Ingle sir to create Github profile and upload Githubs Assignment link."
   ]
  },
  {
   "cell_type": "markdown",
   "metadata": {},
   "source": [
    "__Step 1:__ Open github.com.\n",
    "\n",
    "__Step 2:__ If you have a account Sign In else Sign Up to Github and complete the formalities.\n",
    "\n",
    "__Step 3:__ After Creating the profile. We have to create a New Repository with Name __LetsUpgrade AI-ML__ and Description as __Assignments__ and have to let it be in Public and click on Create repository.\n",
    "\n",
    "__Step 4:__ Once I click on Create repository a folder will be created in my profile as __LetsUpgrade AI-ML__ and there will be a hyperlink called __uploading and existing file__ and we have to click on it.\n",
    "\n",
    "__Step 5:__ After Clicking I will be getting a option to Drag and drop a file.\n",
    "\n",
    "__Step 6:__ Before hand we have to complete the assignment for the given particular day and save it in a folder named as the respective day.\n",
    "\n",
    "__Step 7:__ Now have to drag the respective folder and drop it in the Github area. Once it gets uploaded will have an option to Commit changes have to click on it.\n",
    "\n",
    "__Step 8:__ Once it gets uploaded have to check whether everything is uploaded properly or not by opening the file inside the uploaded folder.\n",
    "\n",
    "__Step 9:__ Copy the particular page github URL and open the LetsUpgrade Assignment Submission Link.\n",
    "\n",
    "__Step 10:__ Fill all the fields with respective details and in the last there is a field called __Give Github URL of the assignment for the day__ and there have to paste the Github URL copied and submit.\n",
    "\n",
    "__Step 11:__ It means we have successfully submitted the assignement and we will receive a response to the registered email id with the details we filled. We have to open the submitted link and check whether the URL submitted is being accessible to others or not.If it is accessible then everything went well."
   ]
  }
 ],
 "metadata": {
  "kernelspec": {
   "display_name": "Python 3",
   "language": "python",
   "name": "python3"
  },
  "language_info": {
   "codemirror_mode": {
    "name": "ipython",
    "version": 3
   },
   "file_extension": ".py",
   "mimetype": "text/x-python",
   "name": "python",
   "nbconvert_exporter": "python",
   "pygments_lexer": "ipython3",
   "version": "3.7.6"
  }
 },
 "nbformat": 4,
 "nbformat_minor": 4
}
